{
 "cells": [
  {
   "cell_type": "code",
   "execution_count": 1,
   "id": "0364ea3c-24d4-4a02-8c5c-54bace41870f",
   "metadata": {
    "execution": {
     "iopub.execute_input": "2024-01-17T19:20:58.575646Z",
     "iopub.status.busy": "2024-01-17T19:20:58.574796Z",
     "iopub.status.idle": "2024-01-17T19:21:14.138028Z",
     "shell.execute_reply": "2024-01-17T19:21:14.137206Z",
     "shell.execute_reply.started": "2024-01-17T19:20:58.575618Z"
    }
   },
   "outputs": [
    {
     "name": "stdout",
     "output_type": "stream",
     "text": [
      "Detected operating system as Ubuntu/focal.\n",
      "Checking for curl...\n",
      "Detected curl...\n",
      "Checking for gpg...\n",
      "Detected gpg...\n",
      "Detected apt version as 2.0.9\n",
      "Running apt-get update... done.\n",
      "Installing apt-transport-https... done.\n",
      "Installing /etc/apt/sources.list.d/github_git-lfs.list...done.\n",
      "Importing packagecloud gpg key... Packagecloud gpg key imported to /etc/apt/keyrings/github_git-lfs-archive-keyring.gpg\n",
      "done.\n",
      "Running apt-get update... done.\n",
      "\n",
      "The repository is setup! You can now install packages.\n",
      "Reading package lists... Done\n",
      "Building dependency tree       \n",
      "Reading state information... Done\n",
      "The following NEW packages will be installed:\n",
      "  git-lfs\n",
      "0 upgraded, 1 newly installed, 0 to remove and 168 not upgraded.\n",
      "Need to get 7922 kB of archives.\n",
      "After this operation, 16.9 MB of additional disk space will be used.\n",
      "Get:1 https://packagecloud.io/github/git-lfs/ubuntu focal/main amd64 git-lfs amd64 3.4.1 [7922 kB]\n",
      "Fetched 7922 kB in 1s (13.6 MB/s)\n",
      "Selecting previously unselected package git-lfs.\n",
      "(Reading database ... 69943 files and directories currently installed.)\n",
      "Preparing to unpack .../git-lfs_3.4.1_amd64.deb ...\n",
      "Unpacking git-lfs (3.4.1) ...\n",
      "Setting up git-lfs (3.4.1) ...\n",
      "Git LFS initialized.\n",
      "Processing triggers for man-db (2.9.1-1) ...\n",
      "Git LFS initialized.\n"
     ]
    }
   ],
   "source": [
    "# Install Git LFS\n",
    "!curl -s https://packagecloud.io/install/repositories/github/git-lfs/script.deb.sh | sudo bash\n",
    "!sudo apt-get install git-lfs\n",
    "\n",
    "# Setup Git LFS\n",
    "!git lfs install\n",
    "\n",
    "!git config --global user.email \"chuducan.dev@gmail.com\"\n",
    "!git config --global user.name \"Anderson Chu\""
   ]
  },
  {
   "cell_type": "code",
   "execution_count": 5,
   "id": "672ad3de-8281-40d0-90d0-a66706ea4bd9",
   "metadata": {
    "execution": {
     "iopub.execute_input": "2024-01-17T19:56:20.796418Z",
     "iopub.status.busy": "2024-01-17T19:56:20.795795Z",
     "iopub.status.idle": "2024-01-17T19:58:46.223620Z",
     "shell.execute_reply": "2024-01-17T19:58:46.223004Z",
     "shell.execute_reply.started": "2024-01-17T19:56:20.796383Z"
    }
   },
   "outputs": [
    {
     "name": "stdout",
     "output_type": "stream",
     "text": [
      "\u001B[90mgit version 2.25.1\u001B[0m\n",
      "\u001B[90mgit-lfs/3.4.1 (GitHub; linux amd64; go 1.21.1)\u001B[0m\n",
      "\n",
      "You are about to create \u001B[1mchuducandev/Llama-2-7b-hf-c2t-2-005\u001B[0m\n",
      "Proceed? [Y/n] \n",
      "Your repo now lives at:\n",
      "  \u001B[1mhttps://huggingface.co/chuducandev/Llama-2-7b-hf-c2t-2-005\u001B[0m\n",
      "\n",
      "You can clone it locally with the command below, and commit/push as usual.\n",
      "\n",
      "  git clone https://huggingface.co/chuducandev/Llama-2-7b-hf-c2t-2-005\n",
      "\n",
      "/notebooks/huggingface\n",
      "Cloning into 'Llama-2-7b-hf-c2t-2-005'...\n",
      "remote: Enumerating objects: 3, done.\u001B[K\n",
      "remote: Counting objects: 100% (3/3), done.\u001B[K\n",
      "remote: Compressing objects: 100% (2/2), done.\u001B[K\n",
      "remote: Total 3 (delta 0), reused 0 (delta 0), pack-reused 0\u001B[K\n",
      "Unpacking objects: 100% (3/3), 1.06 KiB | 31.00 KiB/s, done.\n",
      "/notebooks/huggingface/Llama-2-7b-hf-c2t-2-005\n",
      "Updated Git hooks.\n",
      "Git LFS initialized.\n",
      "Encountered 2 files that may not have been copied correctly on Windows:\n",
      "\tmodel-00001-of-00003.safetensors\n",
      "\tmodel-00002-of-00003.safetensors\n",
      "\n",
      "See: `git lfs help smudge` for more details.\n",
      "[main 80d2bb5] Add fine-tuned model\n",
      " 9 files changed, 414 insertions(+)\n",
      " create mode 100644 config.json\n",
      " create mode 100644 generation_config.json\n",
      " create mode 100644 model-00001-of-00003.safetensors\n",
      " create mode 100644 model-00002-of-00003.safetensors\n",
      " create mode 100644 model-00003-of-00003.safetensors\n",
      " create mode 100644 model.safetensors.index.json\n",
      " create mode 100644 special_tokens_map.json\n",
      " create mode 100644 tokenizer.model\n",
      " create mode 100644 tokenizer_config.json\n",
      "Uploading LFS objects: 100% (4/4), 14 GB | 309 MB/s, done.                      \n",
      "Enumerating objects: 12, done.\n",
      "Counting objects: 100% (12/12), done.\n",
      "Delta compression using up to 12 threads\n",
      "Compressing objects: 100% (11/11), done.\n",
      "Writing objects: 100% (11/11), 3.11 KiB | 3.11 MiB/s, done.\n",
      "Total 11 (delta 0), reused 0 (delta 0)\n",
      "To https://huggingface.co/chuducandev/Llama-2-7b-hf-c2t-2-005\n",
      "   777d4a1..80d2bb5  main -> main\n",
      "/notebooks/huggingface\n"
     ]
    }
   ],
   "source": [
    "import os\n",
    "\n",
    "# Define the model name and path\n",
    "model_name = \"Llama-2-7b-hf-owid-1-001\"\n",
    "model_dir = \"/workspace/ChartQA/models/fine-tuned\"\n",
    "huggingface_local_dir = \"/workspace/ChartQA/huggingface\"\n",
    "model_path = f\"{model_dir}/{model_name}\"\n",
    "huggingface_local_path = f\"{huggingface_local_dir}/{model_name}\"\n",
    "\n",
    "os.makedirs(huggingface_local_dir, exist_ok=True)\n",
    "\n",
    "# Step 0: Delete local path\n",
    "!rm -rf {huggingface_local_path}\n",
    "\n",
    "# Step 1: Create a new repository on Hugging Face\n",
    "!echo Y | huggingface-cli repo create {model_name}\n",
    "\n",
    "%cd {huggingface_local_dir}\n",
    "\n",
    "# Step 2: Clone the repository\n",
    "!git clone https://huggingface.co/chuducandev/{model_name}\n",
    "\n",
    "# Step 3: Move model files to the cloned repository\n",
    "!cp -r {model_path}/* {huggingface_local_path}/\n",
    "\n",
    "# Step 4: Initialize and setup Git LFS\n",
    "%cd {huggingface_local_path}\n",
    "!git lfs install\n",
    "# !git lfs track \"*.json\"\n",
    "# !git lfs track \"*.safetensors\" \n",
    "# !git lfs track \"*.model\"\n",
    "# !git lfs track \"*.bin\" \n",
    "\n",
    "# Step 5: Add files to Git and Git LFS\n",
    "# !git add .gitattributes  # Ensure .gitattributes is tracked\n",
    "!git add .\n",
    "\n",
    "# Step 6: Commit and push to the repository\n",
    "!git commit -m \"Add fine-tuned model\"\n",
    "!git push\n",
    "\n",
    "%cd ..\n"
   ]
  }
 ],
 "metadata": {
  "kernelspec": {
   "display_name": "Python 3 (ipykernel)",
   "language": "python",
   "name": "python3"
  },
  "language_info": {
   "codemirror_mode": {
    "name": "ipython",
    "version": 3
   },
   "file_extension": ".py",
   "mimetype": "text/x-python",
   "name": "python",
   "nbconvert_exporter": "python",
   "pygments_lexer": "ipython3",
   "version": "3.9.16"
  }
 },
 "nbformat": 4,
 "nbformat_minor": 5
}
